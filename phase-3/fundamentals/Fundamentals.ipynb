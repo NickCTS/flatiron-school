{
 "cells": [
  {
   "cell_type": "markdown",
   "id": "b98cee24-f16d-44ca-ab5f-6ae25f495aee",
   "metadata": {},
   "source": [
    "# Fundamentals\n",
    "*by Sakib Rasul*"
   ]
  },
  {
   "cell_type": "markdown",
   "id": "efbe7d3c",
   "metadata": {},
   "source": [
    "**Welcome to Phase 3!** The goal of the next few lessons will be to familiarize ourselves with a new programming language called **Python**, so that we can use it to write production-level APIs in **Flask** and **SQLAlchemy**.\n",
    "\n",
    "[**Python**](https://www.python.org/) is a *high-level*, *dynamically typed*, *garbage-collected*, *object-oriented*, and *functional* programming language developed in 1991 by Guido van Rossum. It is known for its readability and widespread usage in the fields of data science and machine learning.\n",
    "\n",
    "[**Jupyter notebooks**](https://jupyter-notebook.readthedocs.io/en/latest/) are `.ipynb` files (like this one!) in which *cells* of Python code can be written and run independently of one another. They're a great tool for experimenting in Python. To get started with notebooks in Visual Studio Code, take the following steps:\n",
    "1. Install [Python](https://www.python.org/about/gettingstarted/) on your computer, and get the Python extension for Visual Studio Code.\n",
    "2. Install [Jupyter](https://pypi.org/project/jupyter/) with `pip`, and get the Jupyter extension for Visual Studio Code.\n",
    "3. Open a `.ipynb` file in Visual Studio Code.\n",
    "\n",
    "With that preamble out of the way, let's dive into some of the basics of Python!"
   ]
  },
  {
   "cell_type": "markdown",
   "id": "5ebab511",
   "metadata": {},
   "source": [
    "## Variables"
   ]
  },
  {
   "cell_type": "markdown",
   "id": "827e38c0",
   "metadata": {},
   "source": [
    "We can assign **values** to **variables** in Python. The principal, built-in types we can work with are:\n",
    "- **numerics**: `int`egers, `float`ing-point numbers, and `bool`eans\n",
    "- **sequences**: `str`ings, `list`s, `tuple`s, and `range`s\n",
    "- **mappings**: `dict`ionaries\n",
    "- **`class`es** and **instances**\n",
    "- **exceptions**\n",
    "\n",
    "Note: Python considers all of these types subtypes of the type `object`."
   ]
  },
  {
   "cell_type": "code",
   "execution_count": 1,
   "id": "82bcb973",
   "metadata": {},
   "outputs": [],
   "source": [
    "# To (re-)assign a variable to a value, just write [snake_case] = [value].\n",
    "version = 3\n",
    "programming_language = 'HTML'\n",
    "programming_language = \"JavaScript\"\n",
    "programming_language = \"\"\"Python\"\"\""
   ]
  },
  {
   "cell_type": "markdown",
   "id": "6dd90eab",
   "metadata": {},
   "source": [
    "## Printing to the Console"
   ]
  },
  {
   "cell_type": "code",
   "execution_count": 2,
   "id": "b1a8a256-e1f2-4ab1-a2fb-9ab7104745ec",
   "metadata": {},
   "outputs": [
    {
     "name": "stdout",
     "output_type": "stream",
     "text": [
      "3.12\n",
      "True\n",
      "Python\n",
      "Let's learn Python 3?!\n",
      "Let's learn Python 3!?\n"
     ]
    }
   ],
   "source": [
    "# `console.log` is to JavaScript what `print` is to Python.\n",
    "# We can use it to print most values, like numerics and sequences.\n",
    "print(version + 0.12)\n",
    "print(isinstance(version, int))\n",
    "print(programming_language)\n",
    "\n",
    "# Notably, we can only + concatenate + strings to other strings...\n",
    "# print(\"Let's learn \" + programming_language + \" \" + version + \"!\") # nope\n",
    "print(\"Let's learn \" + programming_language + \" \" + str(version) + \"?!\") # yup\n",
    "# ...but we can f\"{ interpolate }\" anything into a string! \n",
    "print(f\"Let's learn {programming_language} {version}!?\")"
   ]
  },
  {
   "cell_type": "markdown",
   "id": "40b5a346",
   "metadata": {},
   "source": [
    "## Conditional Statements"
   ]
  },
  {
   "cell_type": "markdown",
   "id": "e9ccde0e",
   "metadata": {},
   "source": [
    "We can use the **Boolean** values `True` and `False` and the conditional keywords `if`, `elif`, and `else` to control the flow of code in Python."
   ]
  },
  {
   "cell_type": "code",
   "execution_count": null,
   "id": "2489e348",
   "metadata": {},
   "outputs": [],
   "source": [
    "# A conditional statement.\n",
    "if 0: \n",
    "    print(\"Notably, the value `0` is `False`.\")\n",
    "elif not False:\n",
    "    print(\"All non-zero integers and floating-point numbers are `True`.\")\n",
    "else:\n",
    "    print(\"\"\"Another fun fact: indentation is to Python\n",
    "             what { curly braces } are to JavaScript.\"\"\")\n",
    "\n",
    "# A conditional expression.\n",
    "print(\"Hi!\" if 1 else \"Bye!\")"
   ]
  },
  {
   "cell_type": "markdown",
   "id": "2cd411ae",
   "metadata": {},
   "source": [
    "## Data Structures"
   ]
  },
  {
   "cell_type": "markdown",
   "id": "97ce6c6c",
   "metadata": {},
   "source": [
    "We can use **lists**, **tuples**, **ranges**, **sets**, and **dictionaries** to collect values in Python."
   ]
  },
  {
   "cell_type": "code",
   "execution_count": 5,
   "id": "63a3b5e3",
   "metadata": {},
   "outputs": [
    {
     "name": "stdout",
     "output_type": "stream",
     "text": [
      "{1, 2, 3}\n"
     ]
    }
   ],
   "source": [
    "# A **list** is a mutable sequence.\n",
    "numbers = [1, 2, 3, 4, 6]\n",
    "numbers[4] = 5\n",
    "\n",
    "# A **tuple** is an immutable sequence.\n",
    "letters = (\"a\", \"b\", \"c\")\n",
    "# letters[0] = \"d\" # nope\n",
    "\n",
    "# A **set** is an unordered collection of distinct objects.\n",
    "naturals = {1, 2, 2, 3, 3, 3}\n",
    "print(naturals)\n",
    "\n",
    "# A **dictionary** is a mutable mapping of keys to values.\n",
    "# Keys must be **hashable** values, like numerics and strings. \n",
    "stack = {\n",
    "    \"frontend\": \"React\",\n",
    "    \"backend\": \"JSON Server\"\n",
    "}\n",
    "stack[\"backend\"] = \"Flask\""
   ]
  },
  {
   "cell_type": "markdown",
   "id": "9d8fb1a7",
   "metadata": {},
   "source": [
    "## Loops"
   ]
  },
  {
   "cell_type": "markdown",
   "id": "075233c2",
   "metadata": {},
   "source": [
    "We can write `for` statements to iterate over the elements of a sequence."
   ]
  },
  {
   "cell_type": "code",
   "execution_count": 4,
   "id": "4559ba7a",
   "metadata": {},
   "outputs": [
    {
     "name": "stdout",
     "output_type": "stream",
     "text": [
      "Why are you printing yourself?\n",
      "Why are you printing yourself?\n",
      "Hiya, Joe!\n",
      "Hiya, Martha!\n"
     ]
    }
   ],
   "source": [
    "# Iterating over a `range` of integers.\n",
    "for _ in range(2):\n",
    "    print(\"Why are you printing yourself?\")\n",
    "\n",
    "# Iterating over a `list`.\n",
    "for name in [\"Joe\", \"Martha\"]:\n",
    "    print(f\"Hiya, {name}!\")"
   ]
  },
  {
   "cell_type": "markdown",
   "id": "df9ab602",
   "metadata": {},
   "source": [
    "## Functions"
   ]
  },
  {
   "cell_type": "markdown",
   "id": "c6e26c68",
   "metadata": {},
   "source": [
    "We can define **functions** in Python with the following syntax:\n",
    "```python\n",
    "def [name]([argument]): [body]\n",
    "```"
   ]
  },
  {
   "cell_type": "code",
   "execution_count": null,
   "id": "53464f09-d9e4-4d44-976f-c61827599df1",
   "metadata": {},
   "outputs": [],
   "source": [
    "# We can provide argument types with : and default values with =.\n",
    "def say_hi(name: str = \"Sakib\"):\n",
    "    return f\"Hello there, {name}!\"\n",
    "\n",
    "print(say_hi())\n",
    "print(say_hi(\"Hannah\"))"
   ]
  },
  {
   "cell_type": "markdown",
   "id": "0b69ec30",
   "metadata": {},
   "source": [
    "## Challenges"
   ]
  },
  {
   "cell_type": "code",
   "execution_count": 15,
   "id": "570c12dc",
   "metadata": {},
   "outputs": [],
   "source": [
    "# Write a function that takes an integer or floating-point `number`\n",
    "# and prints \"The number you entered is [number].\"\n",
    "# e.g. print_value(5 / 2) \"The number you entered is 2.5.\"\n",
    "def print_value(): pass\n",
    "    \n",
    "# Write a function that returns True if its argument is a string.\n",
    "# e.g. is_a_string(\"Hello\") -> True, is_a_string(5) -> False.\n",
    "def is_a_string(): pass\n",
    "\n",
    "# Write a function that takes two lists and returns True\n",
    "# if they have any items in common.\n",
    "# e.g. contains([1, 2], [2, 3]) -> True, contains([\"a\", \"b\"], [\"c\"]) -> False.\n",
    "def has_overlap(): pass\n",
    "\n",
    "# Write a function that takes a list of numbers\n",
    "# and replaces every even number with \"Fizz\".\n",
    "# e.g. numbers = [1, 2] -> add_fizz(numbers) -> print(numbers) -> [1, 'Fizz']\n",
    "def add_fizz(): pass\n",
    "\n",
    "# Uncomment the function below and resolve its IndentationError.\n",
    "def add(a, b):\n",
    "    return a + b\n",
    "\n",
    "# Modify the following function so that the commented function call\n",
    "# doesn't raise a TypeError.\n",
    "def print_sum(a, b):\n",
    "    print(a + b)\n",
    "# print_sum(5, \"6\")\n",
    "\n",
    "# Modify the following function so that the commented function call\n",
    "# doesn't raise a ValueError.\n",
    "def remove_from_menu(food: dict):\n",
    "    menu.remove(food)\n",
    "\n",
    "hot_dog = { \"name\": \"Sakib\", \"age\": 15 }\n",
    "burger = { \"name\": \"Chett\", \"age\": 101 }\n",
    "menu = [ hot_dog ]\n",
    "\n",
    "# remove_from_menu(burger)\n",
    "\n",
    "# Modify the following function so that the commented function call\n",
    "# doesn't raise an AttributeError.\n",
    "def get_price(item: dict):\n",
    "    return item.price\n",
    "\n",
    "# get_price({ \"name\": \"Bread\" })\n",
    "\n",
    "# Modify the following function so that the commented function call\n",
    "# doesn't raise an IndexError.\n",
    "def get_first_item(items: list):\n",
    "    return items[0]\n",
    "\n",
    "# get_first_item([])"
   ]
  }
 ],
 "metadata": {
  "kernelspec": {
   "display_name": "Python 3 (ipykernel)",
   "language": "python",
   "name": "python3"
  },
  "language_info": {
   "codemirror_mode": {
    "name": "ipython",
    "version": 3
   },
   "file_extension": ".py",
   "mimetype": "text/x-python",
   "name": "python",
   "nbconvert_exporter": "python",
   "pygments_lexer": "ipython3",
   "version": "3.8.13"
  }
 },
 "nbformat": 4,
 "nbformat_minor": 5
}
